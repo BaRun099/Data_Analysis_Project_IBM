{
 "cells": [
  {
   "cell_type": "markdown",
   "id": "f94a8368-76b8-414c-9a4a-a658d5a0f350",
   "metadata": {},
   "source": [
    "<h2>Support Vector Regression Model:</h2>"
   ]
  },
  {
   "cell_type": "code",
   "execution_count": 1,
   "id": "97ab8e65-3893-42af-acd0-c1fb0bb5d971",
   "metadata": {},
   "outputs": [
    {
     "name": "stdout",
     "output_type": "stream",
     "text": [
      "Support Vector Regression:\n",
      "Mean Squared Error: 34.35369784527239\n",
      "R-squared: 0.4896345439535382\n"
     ]
    }
   ],
   "source": [
    "import pandas as pd\n",
    "from sklearn.svm import SVR\n",
    "from sklearn.model_selection import train_test_split\n",
    "from sklearn.metrics import mean_squared_error, r2_score\n",
    "\n",
    "# Load the data from the CSV file\n",
    "file_path = r'C:\\Users\\Barun\\OneDrive\\Desktop\\Data_Analysis_Project\\2018Floor1.csv\\2018Floor1.csv'\n",
    "df = pd.read_csv(file_path, encoding='unicode_escape')\n",
    "\n",
    "# Step 2: Perform data preprocessing to eliminate NaN values\n",
    "df = df.dropna()\n",
    "\n",
    "# Step 3: Split the data into features (X) and target (y)\n",
    "X = df.drop(columns=['Date', 'z1_Light(kW)'])\n",
    "y = df['z1_Light(kW)']\n",
    "\n",
    "# Step 4: Split the data into training and testing sets\n",
    "X_train, X_test, y_train, y_test = train_test_split(X, y, test_size=0.2, random_state=42)\n",
    "\n",
    "# Step 5: Create and train the SVR model\n",
    "svr_model = SVR(kernel='rbf')  # 'rbf' stands for Radial Basis Function (Gaussian) kernel\n",
    "svr_model.fit(X_train, y_train)\n",
    "\n",
    "# Step 6: Make predictions using the SVR model\n",
    "y_pred_svr = svr_model.predict(X_test)\n",
    "\n",
    "# Step 7: Evaluate the SVR model\n",
    "mse_svr = mean_squared_error(y_test, y_pred_svr)\n",
    "r2_svr = r2_score(y_test, y_pred_svr)\n",
    "\n",
    "print(\"Support Vector Regression:\")\n",
    "print(f\"Mean Squared Error: {mse_svr}\")\n",
    "print(f\"R-squared: {r2_svr}\")"
   ]
  },
  {
   "cell_type": "code",
   "execution_count": null,
   "id": "82e9fb03-9621-4d53-b278-1682f0c83b4b",
   "metadata": {},
   "outputs": [],
   "source": []
  }
 ],
 "metadata": {
  "kernelspec": {
   "display_name": "Python 3 (ipykernel)",
   "language": "python",
   "name": "python3"
  },
  "language_info": {
   "codemirror_mode": {
    "name": "ipython",
    "version": 3
   },
   "file_extension": ".py",
   "mimetype": "text/x-python",
   "name": "python",
   "nbconvert_exporter": "python",
   "pygments_lexer": "ipython3",
   "version": "3.10.6"
  }
 },
 "nbformat": 4,
 "nbformat_minor": 5
}
