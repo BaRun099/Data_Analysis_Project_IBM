{
 "cells": [
  {
   "cell_type": "code",
   "execution_count": 1,
   "id": "08c8e016-fbbd-49f8-b267-bb7911cd4c9f",
   "metadata": {},
   "outputs": [
    {
     "name": "stdout",
     "output_type": "stream",
     "text": [
      "Decision Tree Regression:\n",
      "Mean Squared Error: 5.182419015207913\n",
      "R-squared: 0.9230089390658006\n",
      "\n",
      "Random Forest Regression:\n",
      "Mean Squared Error: 2.363679406104435\n",
      "R-squared: 0.9648847025587339\n"
     ]
    }
   ],
   "source": [
    "import pandas as pd\n",
    "from sklearn.tree import DecisionTreeRegressor\n",
    "from sklearn.ensemble import RandomForestRegressor\n",
    "from sklearn.model_selection import train_test_split\n",
    "from sklearn.metrics import mean_squared_error, r2_score\n",
    "\n",
    "# Load the data from the CSV file\n",
    "file_path = r'C:\\Users\\Barun\\OneDrive\\Desktop\\Data_Analysis_Project\\2018Floor1.csv\\2018Floor1.csv'\n",
    "df = pd.read_csv(file_path, encoding='unicode_escape')\n",
    "\n",
    "# Step 2: Perform data preprocessing to eliminate NaN values\n",
    "df = df.dropna()\n",
    "\n",
    "# Step 3: Split the data into features (X) and target (y)\n",
    "X = df.drop(columns=['Date', 'z1_Light(kW)'])\n",
    "y = df['z1_Light(kW)']\n",
    "\n",
    "# Step 4: Split the data into training and testing sets\n",
    "X_train, X_test, y_train, y_test = train_test_split(X, y, test_size=0.2, random_state=42)\n",
    "\n",
    "# Step 5: Create and train the Decision Tree Regression model\n",
    "dt_model = DecisionTreeRegressor(random_state=42)\n",
    "dt_model.fit(X_train, y_train)\n",
    "\n",
    "# Step 6: Make predictions using the Decision Tree model\n",
    "y_pred_dt = dt_model.predict(X_test)\n",
    "\n",
    "# Step 7: Evaluate the Decision Tree model\n",
    "mse_dt = mean_squared_error(y_test, y_pred_dt)\n",
    "r2_dt = r2_score(y_test, y_pred_dt)\n",
    "\n",
    "print(\"Decision Tree Regression:\")\n",
    "print(f\"Mean Squared Error: {mse_dt}\")\n",
    "print(f\"R-squared: {r2_dt}\")\n",
    "\n",
    "# Step 8: Create and train the Random Forest Regression model\n",
    "rf_model = RandomForestRegressor(random_state=42)\n",
    "rf_model.fit(X_train, y_train)\n",
    "\n",
    "# Step 9: Make predictions using the Random Forest model\n",
    "y_pred_rf = rf_model.predict(X_test)\n",
    "\n",
    "# Step 10: Evaluate the Random Forest model\n",
    "mse_rf = mean_squared_error(y_test, y_pred_rf)\n",
    "r2_rf = r2_score(y_test, y_pred_rf)\n",
    "\n",
    "print(\"\\nRandom Forest Regression:\")\n",
    "print(f\"Mean Squared Error: {mse_rf}\")\n",
    "print(f\"R-squared: {r2_rf}\")"
   ]
  },
  {
   "cell_type": "code",
   "execution_count": null,
   "id": "7f9e5b99-738c-4c74-b100-c70ca6ad74a6",
   "metadata": {},
   "outputs": [],
   "source": []
  }
 ],
 "metadata": {
  "kernelspec": {
   "display_name": "Python 3 (ipykernel)",
   "language": "python",
   "name": "python3"
  },
  "language_info": {
   "codemirror_mode": {
    "name": "ipython",
    "version": 3
   },
   "file_extension": ".py",
   "mimetype": "text/x-python",
   "name": "python",
   "nbconvert_exporter": "python",
   "pygments_lexer": "ipython3",
   "version": "3.10.6"
  }
 },
 "nbformat": 4,
 "nbformat_minor": 5
}
