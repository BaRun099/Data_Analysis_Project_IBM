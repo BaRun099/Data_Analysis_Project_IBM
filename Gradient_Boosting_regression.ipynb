{
 "cells": [
  {
   "cell_type": "markdown",
   "id": "c8e4d81f-d38a-462d-95d6-f34db1f3ec7d",
   "metadata": {},
   "source": [
    "<h2>Gradient Boosting Regression Model:</h2>"
   ]
  },
  {
   "cell_type": "code",
   "execution_count": 1,
   "id": "3aa34e9f-fa52-45ff-800f-eaeac7cc8e6f",
   "metadata": {},
   "outputs": [
    {
     "name": "stdout",
     "output_type": "stream",
     "text": [
      "Gradient Boosting Regression:\n",
      "Mean Squared Error: 16.196007445971194\n",
      "R-squared: 0.7593888505533184\n"
     ]
    }
   ],
   "source": [
    "import pandas as pd\n",
    "from sklearn.ensemble import GradientBoostingRegressor\n",
    "from sklearn.model_selection import train_test_split\n",
    "from sklearn.metrics import mean_squared_error, r2_score\n",
    "\n",
    "# Load the data from the CSV file\n",
    "file_path = r'C:\\Users\\Barun\\OneDrive\\Desktop\\Data_Analysis_Project\\2018Floor1.csv\\2018Floor1.csv'\n",
    "df = pd.read_csv(file_path, encoding='unicode_escape')\n",
    "\n",
    "# Step 2: Perform data preprocessing to eliminate NaN values\n",
    "df = df.dropna()\n",
    "\n",
    "# Step 3: Split the data into features (X) and target (y)\n",
    "X = df.drop(columns=['Date', 'z1_Light(kW)'])\n",
    "y = df['z1_Light(kW)']\n",
    "\n",
    "# Step 4: Split the data into training and testing sets\n",
    "X_train, X_test, y_train, y_test = train_test_split(X, y, test_size=0.2, random_state=42)\n",
    "\n",
    "# Step 5: Create and train the Gradient Boosting Regression model\n",
    "gb_model = GradientBoostingRegressor(random_state=42)\n",
    "gb_model.fit(X_train, y_train)\n",
    "\n",
    "# Step 6: Make predictions using the Gradient Boosting model\n",
    "y_pred_gb = gb_model.predict(X_test)\n",
    "\n",
    "# Step 7: Evaluate the Gradient Boosting model\n",
    "mse_gb = mean_squared_error(y_test, y_pred_gb)\n",
    "r2_gb = r2_score(y_test, y_pred_gb)\n",
    "\n",
    "print(\"Gradient Boosting Regression:\")\n",
    "print(f\"Mean Squared Error: {mse_gb}\")\n",
    "print(f\"R-squared: {r2_gb}\")"
   ]
  },
  {
   "cell_type": "code",
   "execution_count": null,
   "id": "3871a9ca-feab-4d20-ac00-069e38ce8992",
   "metadata": {},
   "outputs": [],
   "source": []
  }
 ],
 "metadata": {
  "kernelspec": {
   "display_name": "Python 3 (ipykernel)",
   "language": "python",
   "name": "python3"
  },
  "language_info": {
   "codemirror_mode": {
    "name": "ipython",
    "version": 3
   },
   "file_extension": ".py",
   "mimetype": "text/x-python",
   "name": "python",
   "nbconvert_exporter": "python",
   "pygments_lexer": "ipython3",
   "version": "3.10.6"
  }
 },
 "nbformat": 4,
 "nbformat_minor": 5
}
