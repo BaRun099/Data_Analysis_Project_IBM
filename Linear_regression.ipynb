{
 "cells": [
  {
   "cell_type": "markdown",
   "id": "f2bfae83-9849-42e0-8f0a-9ba83729be17",
   "metadata": {},
   "source": [
    "<h2>Linear Regression Model</h2>"
   ]
  },
  {
   "cell_type": "code",
   "execution_count": 1,
   "id": "a3dddd75-54c0-4314-8f20-07ae2cdbe1c5",
   "metadata": {},
   "outputs": [
    {
     "name": "stdout",
     "output_type": "stream",
     "text": [
      "Mean Squared Error: 29.136049329667593\n",
      "R-squared: 0.5671489814429291\n"
     ]
    }
   ],
   "source": [
    "import pandas as pd\n",
    "from sklearn.linear_model import LinearRegression\n",
    "from sklearn.model_selection import train_test_split\n",
    "from sklearn.metrics import mean_squared_error, r2_score\n",
    "\n",
    "# Load the data from the CSV file\n",
    "file_path = r'C:\\Users\\Barun\\OneDrive\\Desktop\\Data_Analysis_Project\\2018Floor1.csv\\2018Floor1.csv'\n",
    "df = pd.read_csv(file_path, encoding='unicode_escape')\n",
    "\n",
    "# Step 2: Perform data preprocessing to eliminate NaN values\n",
    "df = df.dropna()\n",
    "\n",
    "# Step 3: Split the data into features (X) and target (y)\n",
    "X = df.drop(columns=['Date', 'z1_Light(kW)'])\n",
    "y = df['z1_Light(kW)']\n",
    "\n",
    "# Step 4: Split the data into training and testing sets\n",
    "X_train, X_test, y_train, y_test = train_test_split(X, y, test_size=0.2, random_state=42)\n",
    "\n",
    "# Step 5: Create and train the Linear Regression model\n",
    "model = LinearRegression()\n",
    "model.fit(X_train, y_train)\n",
    "\n",
    "# Step 6: Make predictions on the test set\n",
    "y_pred = model.predict(X_test)\n",
    "\n",
    "# Step 7: Evaluate the model\n",
    "mse = mean_squared_error(y_test, y_pred)\n",
    "r2 = r2_score(y_test, y_pred)\n",
    "\n",
    "print(f\"Mean Squared Error: {mse}\")\n",
    "print(f\"R-squared: {r2}\")"
   ]
  },
  {
   "cell_type": "code",
   "execution_count": null,
   "id": "52732ca5-ce16-47ef-bca3-7cac30bcdbc1",
   "metadata": {},
   "outputs": [],
   "source": []
  }
 ],
 "metadata": {
  "kernelspec": {
   "display_name": "Python 3 (ipykernel)",
   "language": "python",
   "name": "python3"
  },
  "language_info": {
   "codemirror_mode": {
    "name": "ipython",
    "version": 3
   },
   "file_extension": ".py",
   "mimetype": "text/x-python",
   "name": "python",
   "nbconvert_exporter": "python",
   "pygments_lexer": "ipython3",
   "version": "3.10.6"
  }
 },
 "nbformat": 4,
 "nbformat_minor": 5
}
